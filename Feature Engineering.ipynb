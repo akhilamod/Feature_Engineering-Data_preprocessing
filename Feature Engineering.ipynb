{
 "cells": [
  {
   "cell_type": "code",
   "execution_count": null,
   "id": "627c8993",
   "metadata": {},
   "outputs": [],
   "source": [
    "a = pd.read_csv('tested.csv', usecols=['Age','Sex','Survived', 'Pclass'])"
   ]
  },
  {
   "cell_type": "code",
   "execution_count": null,
   "id": "5aae71f9",
   "metadata": {},
   "outputs": [],
   "source": [
    "a['New_col'] = np.where(a['Sex']=='male', 1, 0) # feeds 1 into new col when sex=male else feeds 0"
   ]
  },
  {
   "cell_type": "code",
   "execution_count": 48,
   "id": "6f1e0be1",
   "metadata": {},
   "outputs": [],
   "source": [
    "## Dataframe from list\n",
    "\n",
    "c = [[1,2014,4,1,1,1,1,0]]\n",
    "test = pd.DataFrame(c, columns=['Car_Name','Year','Present_Price','Owner','Individual', 'Manual','Diesel','Petrol'])\n",
    "\n",
    "## Dataframe from Dictionary\n",
    "\n",
    "d = {'Car_Name':[1],'Year':[2014],'Present_Price':[4],'Owner':[0],'Individual':[1], 'Manual':[1],'Diesel':[1],'Petrol':[0]}\n",
    "test1 = pd.DataFrame.from_dict(d)"
   ]
  },
  {
   "cell_type": "code",
   "execution_count": null,
   "id": "1ebd28fd",
   "metadata": {},
   "outputs": [],
   "source": [
    "c = a.append(b, ignore_index=True, sort=True) ## Union of two dataframes "
   ]
  },
  {
   "cell_type": "code",
   "execution_count": null,
   "id": "be5bc645",
   "metadata": {},
   "outputs": [],
   "source": [
    "## getting # of rows and columns in a dataframe\n",
    "rows = a.shape[0]\n",
    "cols = a.shape[1]"
   ]
  },
  {
   "cell_type": "markdown",
   "id": "26089609",
   "metadata": {},
   "source": [
    "# NaN "
   ]
  },
  {
   "cell_type": "code",
   "execution_count": null,
   "id": "bbf0a9cf",
   "metadata": {},
   "outputs": [],
   "source": [
    "a.isnull().sum() ## gives number of NaN in each column"
   ]
  },
  {
   "cell_type": "code",
   "execution_count": null,
   "id": "690d8d32",
   "metadata": {},
   "outputs": [],
   "source": [
    "a.isnull().mean() ## gives number of NaN in % form"
   ]
  },
  {
   "cell_type": "code",
   "execution_count": null,
   "id": "abddbf04",
   "metadata": {},
   "outputs": [],
   "source": [
    "sns.heatmap(a.isnull()) ## Gives overview of nulls in all columns in one map"
   ]
  },
  {
   "cell_type": "markdown",
   "id": "b1ce8476",
   "metadata": {},
   "source": [
    "# Missing values\n",
    "- Numerical values\n",
    "    1. Mean/Median/Mode\n",
    "        - Median better than mean as outlier data affects in case of taking mean\n",
    "        - Used when data missing at random\n",
    "        - Issue - Distorts distribution of data\n",
    "    2. Random Sample Imputation  (Most used)\n",
    "        - Doesn't affect the distribution of data \n",
    "        - Issue: randomness works in most cases but not every time\n",
    "    3. End of Distribution Imputation \n",
    "        - Used when missing data are not at random\n",
    "        - Issue - distorts original distribution + leads to inclusion of outliers if large # of NaNs\n",
    "- Categorical values\n",
    "    1. Frequent Category Imputation \n",
    "        - Not good for large # of NaN (if doing then add extra feature/col)\n",
    "    2. Replacing NaN with new category \n",
    "        - most used\n",
    "        - good for large # of NaN"
   ]
  },
  {
   "cell_type": "markdown",
   "id": "19e1cf69",
   "metadata": {},
   "source": [
    "###### 1. Mean/Median/Mode"
   ]
  },
  {
   "cell_type": "code",
   "execution_count": null,
   "id": "4db1b949",
   "metadata": {},
   "outputs": [],
   "source": [
    "a['Age'].fillna(a['Age'].mean(), inplace = True) ## replaces with mean / median "
   ]
  },
  {
   "cell_type": "markdown",
   "id": "b07f4193",
   "metadata": {},
   "source": [
    "###### 2. Random Sample Imputation  (Most used)\n"
   ]
  },
  {
   "cell_type": "code",
   "execution_count": null,
   "id": "08b7c20e",
   "metadata": {},
   "outputs": [],
   "source": [
    "a['Age'].sample(4) ## returns 4 sample values from age column"
   ]
  },
  {
   "cell_type": "code",
   "execution_count": null,
   "id": "0f33c79c",
   "metadata": {},
   "outputs": [],
   "source": [
    "a['Age'].dropna().sample(4) ## returns 4 sample values from age column after dropping NaN values"
   ]
  },
  {
   "cell_type": "code",
   "execution_count": null,
   "id": "dfdefa0a",
   "metadata": {},
   "outputs": [],
   "source": [
    "b = a['Age'].dropna().sample(a['Age'].isnull().sum(), random_state=0) \n",
    "                                                ## random_state = 0 ensures values doesnt change after every iteration\n",
    "                                                ## returns x sample values from age column after dropping NaN values \n",
    "                                                ## where x is number of NaN values in coloumn"
   ]
  },
  {
   "cell_type": "code",
   "execution_count": null,
   "id": "c00d5626",
   "metadata": {},
   "outputs": [],
   "source": [
    "b.index = a[a['Age'].isnull()].index ## b need to have same index as a in order to get merged "
   ]
  },
  {
   "cell_type": "code",
   "execution_count": null,
   "id": "843fb8b3",
   "metadata": {},
   "outputs": [],
   "source": [
    "a.loc[a['Age'].isnull(), 'Age'] = b ## assigns values of b onto the index of NaN values \n",
    "                                    ## map() funciton doesn't work here"
   ]
  },
  {
   "cell_type": "markdown",
   "id": "a039e310",
   "metadata": {},
   "source": [
    "###### 3. End of Distribution Imputation "
   ]
  },
  {
   "cell_type": "code",
   "execution_count": null,
   "id": "c250be56",
   "metadata": {},
   "outputs": [],
   "source": [
    "a.Age.mean() + 3*a.Age.std() ## returns value beyond 3sigma ie value at the end of distribution\n",
    "                            ## since in Boxplots points beyond it are considered as outliers"
   ]
  },
  {
   "cell_type": "markdown",
   "id": "446a1700",
   "metadata": {},
   "source": [
    "####  Missing Categorical values"
   ]
  },
  {
   "cell_type": "markdown",
   "id": "60df9a50",
   "metadata": {},
   "source": [
    "   ###### 1. Frequent Category Imputation"
   ]
  },
  {
   "cell_type": "code",
   "execution_count": null,
   "id": "d4e61b2a",
   "metadata": {
    "scrolled": true
   },
   "outputs": [],
   "source": [
    "a.Pclass.value_counts() ## returns the different categories in row Pclass\n",
    "a.Pclass.mode() "
   ]
  },
  {
   "cell_type": "code",
   "execution_count": null,
   "id": "6d800f9d",
   "metadata": {},
   "outputs": [],
   "source": [
    "a.Pclass.value_counts(ascending=False).index[0] ## returns the most frequent cateogry in row Pclass"
   ]
  },
  {
   "cell_type": "code",
   "execution_count": 14,
   "id": "980ee1a8",
   "metadata": {},
   "outputs": [],
   "source": [
    "a.Age.fillna(a.Age.mode, inplace=True) ## Replacing Nan with most frequent / highest count category"
   ]
  },
  {
   "cell_type": "markdown",
   "id": "9c64f687",
   "metadata": {},
   "source": [
    "###### 2. Replacing NAN with new category (Most used)"
   ]
  },
  {
   "cell_type": "code",
   "execution_count": null,
   "id": "49b8dd7a",
   "metadata": {},
   "outputs": [],
   "source": [
    "a.Cabin.fillna('missing')"
   ]
  },
  {
   "cell_type": "code",
   "execution_count": null,
   "id": "3e88aa2d",
   "metadata": {},
   "outputs": [],
   "source": [
    "a['Cabin'] = np.where(a.Cabin.isnull(), 'missing', a['Cabin'] ) ## Replaces 'missing' in place of NAN while keeps other "
   ]
  },
  {
   "cell_type": "markdown",
   "id": "3db71a2f",
   "metadata": {},
   "source": [
    "# Encoding\n",
    "- Converting categorical features into dummy/indicator variables to feed into ML algorithm\n",
    "- Types\n",
    "    1. Nominal Encoding\n",
    "        - One Hot Encoding\n",
    "           - Can lead to dummy variable trap if one col not removed which leads to multicollinearity \n",
    "        - Frequency / Count Encoding\n",
    "        - Probability Ratio / Mean Encoding\n",
    "    2. Ordinal Encoding\n",
    "        - Label Encoder\n",
    "            - issue: it ends up assigning rank to categorical values which might impact our model\n",
    "            - To overcome this we use one-hot encoding\n",
    "        - Target Guided Ordinal Encoding"
   ]
  },
  {
   "cell_type": "markdown",
   "id": "1dc786b9",
   "metadata": {},
   "source": [
    "### Nominal Encoding"
   ]
  },
  {
   "cell_type": "markdown",
   "id": "63ccb1eb",
   "metadata": {},
   "source": [
    "###### 1. One Hot Encoding"
   ]
  },
  {
   "cell_type": "code",
   "execution_count": null,
   "id": "aba4b55f",
   "metadata": {},
   "outputs": [],
   "source": [
    "b = pd.get_dummies(a.Sex, drop_first=True) ## drop_first ensures we avoid Dummy_variable_Trap (n-1 columns enough to deduce nth)"
   ]
  },
  {
   "cell_type": "code",
   "execution_count": null,
   "id": "924bc66d",
   "metadata": {},
   "outputs": [],
   "source": [
    "a = a.drop(['Sex'], axis =1)"
   ]
  },
  {
   "cell_type": "code",
   "execution_count": null,
   "id": "382880a4",
   "metadata": {},
   "outputs": [],
   "source": [
    "a = pd.concat([a, b], axis = 1) ## adds one-hot encoded columns "
   ]
  },
  {
   "cell_type": "markdown",
   "id": "0ee92df1",
   "metadata": {},
   "source": [
    "###### 2. Count / Frequency Encoding"
   ]
  },
  {
   "cell_type": "code",
   "execution_count": null,
   "id": "03cbfeb6",
   "metadata": {},
   "outputs": [],
   "source": [
    "b = a['Cabin'].value_counts().to_dict() ## gives the diff categories and their count in 'Cabin' col and stores it in dict "
   ]
  },
  {
   "cell_type": "code",
   "execution_count": null,
   "id": "89587bea",
   "metadata": {},
   "outputs": [],
   "source": [
    "a['Cabin'] = a['Cabin'].map(b) ## replaces the different categories in 'Cabin' col with their count/frequency "
   ]
  },
  {
   "cell_type": "markdown",
   "id": "3b2fa8eb",
   "metadata": {},
   "source": [
    "###### 3. Mean Encoding / Probability Ratio Encoding"
   ]
  },
  {
   "cell_type": "code",
   "execution_count": null,
   "id": "6d570b8c",
   "metadata": {},
   "outputs": [],
   "source": [
    "b = a['Cabin'].value_counts().to_dict()"
   ]
  },
  {
   "cell_type": "markdown",
   "id": "70e517eb",
   "metadata": {},
   "source": [
    "### Ordinal Encoding"
   ]
  },
  {
   "cell_type": "markdown",
   "id": "ddb3d231",
   "metadata": {},
   "source": [
    "###### 1. Target Guided Ordinal Encoding"
   ]
  },
  {
   "cell_type": "markdown",
   "id": "a90f61f0",
   "metadata": {},
   "source": [
    "Replace the labels according to the target"
   ]
  },
  {
   "cell_type": "code",
   "execution_count": null,
   "id": "125d3491",
   "metadata": {},
   "outputs": [],
   "source": [
    "b = a.groupby(['Cabin'])['Survived'].mean()"
   ]
  },
  {
   "cell_type": "code",
   "execution_count": null,
   "id": "cbc6c077",
   "metadata": {},
   "outputs": [],
   "source": []
  },
  {
   "cell_type": "markdown",
   "id": "30d779c6",
   "metadata": {},
   "source": [
    "# Scaling\n"
   ]
  },
  {
   "attachments": {
    "image-2.png": {
     "image/png": "[encoded data removed]"
    }
   },
   "cell_type": "markdown",
   "id": "9a92d128",
   "metadata": {},
   "source": [
    "######   1. Standardisation (Most used)\n",
    "Bringing all the variables / features to similar scale (b/w 0-1)\n",
    "![image-2.png](attachment:image-2.png)"
   ]
  },
  {
   "cell_type": "code",
   "execution_count": null,
   "id": "e9a4a546",
   "metadata": {},
   "outputs": [],
   "source": [
    "scaler = StandardScaler() ## from seaborn.preprocessing import StandardScaler"
   ]
  },
  {
   "cell_type": "code",
   "execution_count": null,
   "id": "053f3284",
   "metadata": {},
   "outputs": [],
   "source": [
    "a_new = scaler.fit_transform(a) ## scaling values in all coloumns"
   ]
  },
  {
   "cell_type": "code",
   "execution_count": null,
   "id": "f3526c59",
   "metadata": {},
   "outputs": [],
   "source": [
    "b = pd.DataFrame(a_new, columns=a.columns) ## storing the scaled data in table / Dataframe form"
   ]
  },
  {
   "cell_type": "markdown",
   "id": "3009ddbe",
   "metadata": {},
   "source": [
    "######  2. Min Max Value\n",
    "Scales the values between 0-1 with min=0 and max=1"
   ]
  },
  {
   "cell_type": "code",
   "execution_count": null,
   "id": "72612920",
   "metadata": {},
   "outputs": [],
   "source": [
    "min_max = MinMaxScaler()"
   ]
  },
  {
   "cell_type": "code",
   "execution_count": null,
   "id": "3e14aff4",
   "metadata": {},
   "outputs": [],
   "source": [
    "b = pd.DataFrame(min_max.fit_transform(a), columns=a.columns)"
   ]
  },
  {
   "cell_type": "markdown",
   "id": "70c7e013",
   "metadata": {},
   "source": [
    "######  3. Robust Scaler (median and quartile)\n",
    "Used to scale the features to median and quantiles: \n",
    "X_scaled = (X - X_median) / IQR, where\n",
    "IQR = 75th percentile - 25th percentile"
   ]
  },
  {
   "cell_type": "code",
   "execution_count": 1,
   "id": "d7db4b57",
   "metadata": {},
   "outputs": [
    {
     "data": {
      "application/javascript": [
       "\n",
       "        if (window._pyforest_update_imports_cell) { window._pyforest_update_imports_cell('import pandas as pd\\nfrom sklearn.preprocessing import RobustScaler\\nfrom sklearn.preprocessing import MinMaxScaler\\nfrom sklearn.preprocessing import StandardScaler'); }\n",
       "    "
      ],
      "text/plain": [
       "<IPython.core.display.Javascript object>"
      ]
     },
     "metadata": {},
     "output_type": "display_data"
    }
   ],
   "source": [
    "scaler = RobustScaler()"
   ]
  },
  {
   "cell_type": "code",
   "execution_count": null,
   "id": "06c47e19",
   "metadata": {},
   "outputs": [],
   "source": [
    "b = pd.DataFrame(scaler.fit_transform(a), columns = a.columns)"
   ]
  },
  {
   "cell_type": "markdown",
   "id": "3fb6ad1b",
   "metadata": {},
   "source": [
    "## Gaussian (Normal) Transformation \n",
    "- If variables are not normally distributed (inverted-bell curve) then we use some techniques to make it normally distributed.\n",
    "- This is req as some ML models (Liniear regression) assume that data is normally distributed. \n",
    "- KDE, Q-Q plot are used to check whether data is gaussian/normally distributed\n",
    "- Some techniques are:\n",
    "\n",
    "    - Logarithmic Transformation\n",
    "    - Reciprocal Trasnformation\n",
    "    - Square root Transformation\n",
    "    - Exponential Transformation\n",
    "    - Boxcox Transformation"
   ]
  },
  {
   "cell_type": "code",
   "execution_count": null,
   "id": "76a066c3",
   "metadata": {},
   "outputs": [],
   "source": [
    "a.skew() ## checks skewnwess of data\n",
    "        ## [-0.5 to 0.5]: symmetric ie normally distributed\n",
    "        ## [-0.5 to -1] and [0.5 to 1]: moderately -ve and +ve skewed respectively\n",
    "        ## >-1 and >1 : highly -ve or +ve skewed respectively"
   ]
  },
  {
   "cell_type": "code",
   "execution_count": null,
   "id": "d079731e",
   "metadata": {},
   "outputs": [],
   "source": [
    "import scipy.stats as stats       ## Q-Q plot\n",
    "import pylab\n",
    "stats.probplot(a['Age'], plot=pylab)"
   ]
  },
  {
   "cell_type": "markdown",
   "id": "709e2e58",
   "metadata": {},
   "source": [
    "###### Logarithmic Distribution\n",
    "works well for right/left skewed data as it converts them to gaussian distributed "
   ]
  },
  {
   "cell_type": "code",
   "execution_count": null,
   "id": "5ab3c567",
   "metadata": {},
   "outputs": [],
   "source": [
    "a['Age_log'] = np.log(a.Age)"
   ]
  },
  {
   "cell_type": "markdown",
   "id": "9bb71253",
   "metadata": {},
   "source": [
    "###### Reciprocal Transformation"
   ]
  },
  {
   "cell_type": "code",
   "execution_count": null,
   "id": "29452d30",
   "metadata": {},
   "outputs": [],
   "source": [
    "a['Age_reciprocal'] = 1/a.Age"
   ]
  },
  {
   "cell_type": "markdown",
   "id": "b9e286b9",
   "metadata": {},
   "source": [
    "###### Square root Transformation"
   ]
  },
  {
   "cell_type": "code",
   "execution_count": null,
   "id": "76b00c36",
   "metadata": {},
   "outputs": [],
   "source": [
    "a['Age_sqr'] = df.age**(1/2)"
   ]
  },
  {
   "cell_type": "markdown",
   "id": "e37184c5",
   "metadata": {},
   "source": [
    "###### Exponential Transformation"
   ]
  },
  {
   "cell_type": "code",
   "execution_count": null,
   "id": "906becc4",
   "metadata": {},
   "outputs": [],
   "source": [
    "a['Age_expo'] = a.Age**(1/1.2)"
   ]
  },
  {
   "attachments": {
    "image-2.png": {
     "image/png": "[encoded data removed]"
    }
   },
   "cell_type": "markdown",
   "id": "c26d9b50",
   "metadata": {},
   "source": [
    "###### Boxcox Transformation\n",
    "\n",
    "Transforms variables using a parameter whose value varies from 5 to -5. In the transformation all the values of this parameter is considered and the optimal value for the given variable is selected (using Profile-likelyhood fuction)\n",
    "![image-2.png](attachment:image-2.png)"
   ]
  },
  {
   "cell_type": "code",
   "execution_count": null,
   "id": "0ee74611",
   "metadata": {},
   "outputs": [],
   "source": [
    "a['age_boxcox'],parameters=stats.boxcox(a['Age'])"
   ]
  },
  {
   "cell_type": "markdown",
   "id": "69af261f",
   "metadata": {},
   "source": [
    "## Imbalanced Data\n",
    "- Found in Fraud detection, spam filtering, disease screening, etc\n",
    "- Most ML models work best when number of samples in each class is almost equal \n",
    "- Using imbalanced data one just by predicting majority class but fails to capture minority class which is the main obj of creating the model in the firts place\n",
    "- Using imbalanced data one predicts majority class with 100% accuracy while minority class with 0% accuracy\n",
    "- Other parameters to guage model\n",
    "    - Confusion Matrix\n",
    "    - Recall\n",
    "    - Precision\n",
    "- Techniques to convert imbalanced ==> Balanced data\n",
    "    - Resampling: \n",
    "        - removing samples from majority class (under-sampling) or adding samples to minority (over-sampling)\n",
    "        - Disadv: Loss of info in under-sampling and overfitting (catching false pattern) in case of over-sampling\n",
    "    - Clustered Resampling:\n",
    "        - cluster the records and then do under/over sampling inorder to preserve info\n",
    "    - Tomek Links:\n",
    "        - Tomek links are pairs of very close instances but of opposite class\n",
    "        - Removes the majority class form these Tomek link pairs\n",
    "        - Increases the space between two classes hence facilitating the classification process\n",
    "    - SMOTE:\n",
    "        - Synthetic Minority Over-sampling Technique\n",
    "        - Synthetic points are inserted between a randomly chosen point and its k-nearest neighbours\n",
    "- Models that work well with imbalanced data\n",
    "    - Random Forest\n",
    "    - Gradient Boosted trees\n",
    "    - Penalized-SVM (increases the cost of classification mistakes on the minority class\n",
    "    \n",
    "- Conclusion: Always go for ensemble techniques (Random forest, XG Boost, etc)"
   ]
  },
  {
   "cell_type": "markdown",
   "id": "7c31aae6",
   "metadata": {},
   "source": [
    "##### Random Sampling"
   ]
  },
  {
   "cell_type": "code",
   "execution_count": 6,
   "id": "6107553a",
   "metadata": {},
   "outputs": [],
   "source": [
    "from imblearn.under_sampling import RandomUnderSampler"
   ]
  },
  {
   "cell_type": "code",
   "execution_count": 7,
   "id": "5e94ec3e",
   "metadata": {},
   "outputs": [],
   "source": [
    "rus = RandomUnderSampler(0.8, random_state=0) ## majority class under-sampled to extent that 0.8*Majority = minority\n",
    "                                            ## random_state=0 ensures same values are generated after every iteration"
   ]
  },
  {
   "cell_type": "code",
   "execution_count": null,
   "id": "c659fa50",
   "metadata": {},
   "outputs": [],
   "source": [
    "ros = RandomOverSampler(0.4) ## over-samples minority class to 50% of majority class"
   ]
  },
  {
   "cell_type": "code",
   "execution_count": null,
   "id": "8cdffa79",
   "metadata": {},
   "outputs": [],
   "source": [
    "X_train_new, y_train_new = rus.fit_resample(X_train,y_train)"
   ]
  },
  {
   "cell_type": "code",
   "execution_count": null,
   "id": "9d76c1bd",
   "metadata": {},
   "outputs": [],
   "source": [
    "from sklearn.ensemble import RandomForestClassifier\n",
    "rfc = RandomForestClassifier()\n",
    "rfc.fit(X_train_new, y_train_new)\n",
    "predictions = rfc.predict(X_test)"
   ]
  },
  {
   "cell_type": "code",
   "execution_count": null,
   "id": "b4ffa445",
   "metadata": {},
   "outputs": [],
   "source": [
    "from sklearn import metrics\n",
    "acc = metrics.accuracy_score(y_test, predict)\n",
    "confusion = metrics.confusion_matrix(y_test, predict)"
   ]
  },
  {
   "cell_type": "markdown",
   "id": "24606c7e",
   "metadata": {},
   "source": [
    "##### SMOTE Tomek\n",
    "- Under-sampling using Tomek while over-sampling using SMOTE \n",
    "- Takes more time than simple over-smapling as new points are generated based on K-Nearest neighbours"
   ]
  },
  {
   "cell_type": "code",
   "execution_count": 10,
   "id": "27ea91e6",
   "metadata": {},
   "outputs": [],
   "source": [
    "from imblearn.combine import SMOTETomek"
   ]
  },
  {
   "cell_type": "code",
   "execution_count": null,
   "id": "db13d82a",
   "metadata": {},
   "outputs": [],
   "source": [
    "st = SMOTETomek(0.7) ## will make minority class 0.7 times majority class"
   ]
  },
  {
   "cell_type": "code",
   "execution_count": null,
   "id": "cf1bcc7d",
   "metadata": {},
   "outputs": [],
   "source": [
    "X_train_new, y_train_new = st.fit_resample(X_train,y_train)"
   ]
  },
  {
   "cell_type": "markdown",
   "id": "41682905",
   "metadata": {},
   "source": [
    "##### Ensemble Technique"
   ]
  },
  {
   "cell_type": "code",
   "execution_count": 11,
   "id": "fba63597",
   "metadata": {},
   "outputs": [],
   "source": [
    "from imblearn.ensemble import EasyEnsembleClassifier"
   ]
  },
  {
   "cell_type": "code",
   "execution_count": null,
   "id": "ba00c9be",
   "metadata": {},
   "outputs": [],
   "source": [
    "easy = EasyEnsembleClassifier()"
   ]
  },
  {
   "cell_type": "markdown",
   "id": "cac4f25f",
   "metadata": {},
   "source": [
    "## Outliers and their impact\n",
    "\n",
    "- Data that diverges from well-structured data\n",
    "- Importance in examples like credit fraud detection, cybercrimes as these are usually very different form conventional value\n",
    "- Keeping/Removing outliers depends on the domain in which one is working (eg Titanic data no need)\n",
    "- Significantly affects correlation \n",
    "- ML Models sensitive to Outliers\n",
    "    - SVM: Not sensitive\n",
    "    - Linear/Logistic Regression: Sensitive\n",
    "    - Naivye Bayes Classifier: Not sensistive\n",
    "    - KNN: Not Sensitive\n",
    "    - Decision Trees: Not sensitive \n",
    "    - Ensemble techniques (RF,XGBoost): Not sensitive\n",
    "    - KMeans: Sensitive \n",
    "    - PCA: Sensitive\n",
    "    - Hierarichal: Sensitive\n",
    "    - Neural Networks: Sensitive"
   ]
  },
  {
   "cell_type": "markdown",
   "id": "3da4c2a0",
   "metadata": {},
   "source": [
    "###### For Gaussian Distribution\n",
    "The boundary for outlier is taken as 3*SD"
   ]
  },
  {
   "cell_type": "code",
   "execution_count": null,
   "id": "9d0668a4",
   "metadata": {},
   "outputs": [],
   "source": [
    "def outlier_func(a,variable):\n",
    "    upper_boundary = a[variable].mean() + 3*a[variable].std()\n",
    "    lower_boundary = a[variable].mean() - 3*a[variable].std()\n",
    "    if lower_boundary < 0: \n",
    "        lower_boundary = 0\n",
    "    print(upper_boundary)\n",
    "    print(lower_boundary)"
   ]
  },
  {
   "cell_type": "code",
   "execution_count": null,
   "id": "598d9c4a",
   "metadata": {},
   "outputs": [],
   "source": [
    "a['Age'] = np.where(a.Age>upper_boundary, upper_boundary, a.Age) ## Replacing outliers with upperlimit as no loss of info "
   ]
  },
  {
   "cell_type": "markdown",
   "id": "ae4e1cdd",
   "metadata": {},
   "source": [
    "###### For Skewed Distribution"
   ]
  },
  {
   "cell_type": "code",
   "execution_count": null,
   "id": "33f53bb9",
   "metadata": {},
   "outputs": [],
   "source": [
    "IQR = a['Age'].quartile(0.75) - a['Age'].quartile(0.25) ## Inter Quartile Range "
   ]
  },
  {
   "cell_type": "code",
   "execution_count": null,
   "id": "f6f21106",
   "metadata": {},
   "outputs": [],
   "source": [
    "lower_bridge = a['Age'].quartile(0.25) - (IQR*3) ## 1.5 decided based on domain of dataset\n",
    "upper_bridge = a['Age'].quartile(0.75) + (IQR*3) ## this limit is what is shown in Boxplot"
   ]
  }
 ],
 "metadata": {
  "kernelspec": {
   "display_name": "Python 3",
   "language": "python",
   "name": "python3"
  },
  "language_info": {
   "codemirror_mode": {
    "name": "ipython",
    "version": 3
   },
   "file_extension": ".py",
   "mimetype": "text/x-python",
   "name": "python",
   "nbconvert_exporter": "python",
   "pygments_lexer": "ipython3",
   "version": "3.8.8"
  }
 },
 "nbformat": 4,
 "nbformat_minor": 5
}
